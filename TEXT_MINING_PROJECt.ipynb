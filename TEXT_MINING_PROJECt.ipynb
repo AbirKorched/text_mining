{
  "nbformat": 4,
  "nbformat_minor": 0,
  "metadata": {
    "kernelspec": {
      "name": "python3",
      "display_name": "Python 3"
    },
    "language_info": {
      "name": "python",
      "version": "3.6.6",
      "mimetype": "text/x-python",
      "codemirror_mode": {
        "name": "ipython",
        "version": 3
      },
      "pygments_lexer": "ipython3",
      "nbconvert_exporter": "python",
      "file_extension": ".py"
    },
    "colab": {
      "name": "TEXT_MINING_PROJECT.ipynb",
      "provenance": [],
      "collapsed_sections": [
        "M4KOlF_2K1a9"
      ],
      "toc_visible": true
    },
    "accelerator": "GPU"
  },
  "cells": [
    {
      "cell_type": "markdown",
      "metadata": {
        "id": "z0PFz5JxK1XZ",
        "colab_type": "text"
      },
      "source": [
        "# TEXT MINING PROJECT\n",
        "\n",
        "Organization - Each newsgroup file in the bundle represents a single newsgroup - Each message in a file is the text of some newsgroup document that was posted to that newsgroup.\n",
        "\n",
        "This is a list of the 20 newsgroups:\n",
        "\n",
        "- comp.graphics\n",
        "- comp.os.ms-windows.misc\n",
        "- comp.sys.ibm.pc.hardware\n",
        "- comp.sys.mac.hardware\n",
        "- comp.windows.x rec.autos\n",
        "- rec.motorcycles\n",
        "- rec.sport.baseball\n",
        "- rec.sport.hockey sci.crypt\n",
        "- sci.electronics\n",
        "- sci.med\n",
        "- sci.space\n",
        "- misc.forsale talk.politics.misc\n",
        "- talk.politics.guns\n",
        "- talk.politics.mideast talk.religion.misc\n",
        "- alt.atheism\n",
        "- soc.religion.christian\n",
        "\n",
        "In this kernel we will perform the following task:\n",
        "\n",
        "\n",
        "\n",
        "\n",
        "1.   Text classification\n",
        "2.   Topic modeling\n",
        "3.   Text summarization\n",
        "\n",
        "\n",
        "\n"
      ]
    },
    {
      "cell_type": "code",
      "metadata": {
        "_uuid": "8f2839f25d086af736a60e9eeb907d3b93b6e0e5",
        "_cell_guid": "b1076dfc-b9ad-4769-8c92-a6c4dae69d19",
        "trusted": true,
        "id": "sFvLayKRK1Xf",
        "colab_type": "code",
        "colab": {
          "base_uri": "https://localhost:8080/",
          "height": 147
        },
        "outputId": "289519ed-d113-454b-9010-a1d9d763b88d"
      },
      "source": [
        "# This Python 3 environment comes with many helpful analytics libraries installed\n",
        "# It is defined by the kaggle/python docker image: https://github.com/kaggle/docker-python\n",
        "# For example, here's several helpful packages to load in \n",
        "\n",
        "import numpy as np # linear algebra\n",
        "import pandas as pd # data processing, CSV file I/O (e.g. pd.read_csv)\n",
        "import math\n",
        "import re\n",
        "import matplotlib.pyplot as plt\n",
        "from wordcloud import WordCloud\n",
        "import operator\n",
        "from nltk.tokenize import word_tokenize\n",
        "from nltk.corpus import stopwords \n",
        "import nltk\n",
        "nltk.download('stopwords')\n",
        "nltk.download('punkt')\n",
        "from nltk.tokenize import sent_tokenize,word_tokenize\n",
        "nltk.download('averaged_perceptron_tagger')\n",
        "Stopwords = set(stopwords.words('english'))\n",
        "from sklearn.model_selection import train_test_split\n",
        "from sklearn.pipeline import Pipeline\n",
        "from sklearn.feature_extraction.text import TfidfVectorizer\n",
        "from xgboost import XGBClassifier\n",
        "from sklearn.model_selection import GridSearchCV\n",
        "from gensim.models import Word2Vec\n",
        "from sklearn.linear_model import LogisticRegression\n",
        "from sklearn.metrics import accuracy_score, precision_score, classification_report, confusion_matrix\n",
        "from sklearn.neighbors import KNeighborsClassifier\n",
        "from sklearn.linear_model import LogisticRegression\n",
        "from sklearn.tree import DecisionTreeClassifier\n",
        "from sklearn.ensemble import RandomForestClassifier, AdaBoostClassifier, GradientBoostingClassifier\n",
        "from sklearn.naive_bayes import GaussianNB\n",
        "from sklearn import metrics\n",
        "from sklearn.metrics import accuracy_score, recall_score, precision_score\n",
        "import pickle\n",
        "from nltk.translate.bleu_score import sentence_bleu\n",
        "\n",
        "#topic modeling\n",
        "from sklearn.feature_extraction.text import TfidfVectorizer, CountVectorizer\n",
        "from sklearn.decomposition import NMF, LatentDirichletAllocation\n",
        "\n",
        "# Input data files are available in the \"../input/\" directory.\n",
        "# For example, running this (by clicking run or pressing Shift+Enter) will list the files in the input directory\n"
      ],
      "execution_count": 16,
      "outputs": [
        {
          "output_type": "stream",
          "text": [
            "[nltk_data] Downloading package stopwords to /root/nltk_data...\n",
            "[nltk_data]   Package stopwords is already up-to-date!\n",
            "[nltk_data] Downloading package punkt to /root/nltk_data...\n",
            "[nltk_data]   Package punkt is already up-to-date!\n",
            "[nltk_data] Downloading package averaged_perceptron_tagger to\n",
            "[nltk_data]     /root/nltk_data...\n",
            "[nltk_data]   Package averaged_perceptron_tagger is already up-to-\n",
            "[nltk_data]       date!\n"
          ],
          "name": "stdout"
        }
      ]
    },
    {
      "cell_type": "markdown",
      "metadata": {
        "id": "kvRzE210K1Xl",
        "colab_type": "text"
      },
      "source": [
        "# I. TEXT CLASSIFICATION"
      ]
    },
    {
      "cell_type": "code",
      "metadata": {
        "_cell_guid": "79c7e3d0-c299-4dcb-8224-4455121ee9b0",
        "_uuid": "d629ff2d2480ee46fbb7e2d37f6b5fab8052498a",
        "trusted": true,
        "id": "QdyyZcHBK1Xm",
        "colab_type": "code",
        "colab": {
          "base_uri": "https://localhost:8080/",
          "height": 223
        },
        "outputId": "e5f651ca-a718-419c-b9c5-4c6a917f4c46"
      },
      "source": [
        "#Load data\n",
        "!unzip train.csv.zip\n",
        "train_data = pd.read_csv('train.csv', delimiter=',')\n",
        "train_data.head()"
      ],
      "execution_count": 5,
      "outputs": [
        {
          "output_type": "stream",
          "text": [
            "Archive:  train.csv.zip\n",
            "  inflating: train.csv               \n"
          ],
          "name": "stdout"
        },
        {
          "output_type": "execute_result",
          "data": {
            "text/html": [
              "<div>\n",
              "<style scoped>\n",
              "    .dataframe tbody tr th:only-of-type {\n",
              "        vertical-align: middle;\n",
              "    }\n",
              "\n",
              "    .dataframe tbody tr th {\n",
              "        vertical-align: top;\n",
              "    }\n",
              "\n",
              "    .dataframe thead th {\n",
              "        text-align: right;\n",
              "    }\n",
              "</style>\n",
              "<table border=\"1\" class=\"dataframe\">\n",
              "  <thead>\n",
              "    <tr style=\"text-align: right;\">\n",
              "      <th></th>\n",
              "      <th>id</th>\n",
              "      <th>message</th>\n",
              "      <th>topic</th>\n",
              "    </tr>\n",
              "  </thead>\n",
              "  <tbody>\n",
              "    <tr>\n",
              "      <th>0</th>\n",
              "      <td>0</td>\n",
              "      <td>From: lerxst@wam.umd.edu (where's my thing)\\r\\...</td>\n",
              "      <td>7</td>\n",
              "    </tr>\n",
              "    <tr>\n",
              "      <th>1</th>\n",
              "      <td>1</td>\n",
              "      <td>From: guykuo@carson.u.washington.edu (Guy Kuo)...</td>\n",
              "      <td>4</td>\n",
              "    </tr>\n",
              "    <tr>\n",
              "      <th>2</th>\n",
              "      <td>2</td>\n",
              "      <td>From: twillis@ec.ecn.purdue.edu (Thomas E Will...</td>\n",
              "      <td>4</td>\n",
              "    </tr>\n",
              "    <tr>\n",
              "      <th>3</th>\n",
              "      <td>3</td>\n",
              "      <td>From: jgreen@amber (Joe Green)\\r\\nSubject: Re:...</td>\n",
              "      <td>1</td>\n",
              "    </tr>\n",
              "    <tr>\n",
              "      <th>4</th>\n",
              "      <td>4</td>\n",
              "      <td>From: jcm@head-cfa.harvard.edu (Jonathan McDow...</td>\n",
              "      <td>14</td>\n",
              "    </tr>\n",
              "  </tbody>\n",
              "</table>\n",
              "</div>"
            ],
            "text/plain": [
              "   id                                            message  topic\n",
              "0   0  From: lerxst@wam.umd.edu (where's my thing)\\r\\...      7\n",
              "1   1  From: guykuo@carson.u.washington.edu (Guy Kuo)...      4\n",
              "2   2  From: twillis@ec.ecn.purdue.edu (Thomas E Will...      4\n",
              "3   3  From: jgreen@amber (Joe Green)\\r\\nSubject: Re:...      1\n",
              "4   4  From: jcm@head-cfa.harvard.edu (Jonathan McDow...     14"
            ]
          },
          "metadata": {
            "tags": []
          },
          "execution_count": 5
        }
      ]
    },
    {
      "cell_type": "code",
      "metadata": {
        "trusted": true,
        "id": "Ww6h3rc9K1Xq",
        "colab_type": "code",
        "colab": {
          "base_uri": "https://localhost:8080/",
          "height": 33
        },
        "outputId": "74c0c16a-cc8d-4a4c-b210-cf41897854c6"
      },
      "source": [
        "train_data.shape"
      ],
      "execution_count": 6,
      "outputs": [
        {
          "output_type": "execute_result",
          "data": {
            "text/plain": [
              "(11314, 3)"
            ]
          },
          "metadata": {
            "tags": []
          },
          "execution_count": 6
        }
      ]
    },
    {
      "cell_type": "code",
      "metadata": {
        "trusted": true,
        "id": "iilwjlk5K1Xu",
        "colab_type": "code",
        "colab": {
          "base_uri": "https://localhost:8080/",
          "height": 358
        },
        "outputId": "3ba35d3e-d9b8-446e-affa-fcb92321ec5f"
      },
      "source": [
        "train_data.topic.value_counts()"
      ],
      "execution_count": 8,
      "outputs": [
        {
          "output_type": "execute_result",
          "data": {
            "text/plain": [
              "10    600\n",
              "15    599\n",
              "8     598\n",
              "9     597\n",
              "11    595\n",
              "13    594\n",
              "7     594\n",
              "14    593\n",
              "5     593\n",
              "12    591\n",
              "2     591\n",
              "3     590\n",
              "6     585\n",
              "1     584\n",
              "4     578\n",
              "17    564\n",
              "16    546\n",
              "0     480\n",
              "18    465\n",
              "19    377\n",
              "Name: topic, dtype: int64"
            ]
          },
          "metadata": {
            "tags": []
          },
          "execution_count": 8
        }
      ]
    },
    {
      "cell_type": "code",
      "metadata": {
        "trusted": true,
        "id": "V5_zkR77K1Xy",
        "colab_type": "code",
        "colab": {
          "base_uri": "https://localhost:8080/",
          "height": 198
        },
        "outputId": "531c7c0f-6e77-4474-f029-a709b2f983e9"
      },
      "source": [
        "#data viz\n",
        "\n",
        "t=train_data.message[train_data.topic==1]\n",
        "wordcloud = WordCloud(\n",
        "                          background_color='white',\n",
        "                          min_font_size=10,\n",
        "                          max_words=100,\n",
        "                          max_font_size=50, \n",
        "                          random_state=42\n",
        "                         )\n",
        "fig = plt.figure(1)\n",
        "plt.imshow(wordcloud.generate (str(t)))\n",
        "plt.axis('off')\n",
        "plt.show()"
      ],
      "execution_count": 9,
      "outputs": [
        {
          "output_type": "display_data",
          "data": {
            "image/png": "[encoded data removed]",
            "text/plain": [
              "<Figure size 432x288 with 1 Axes>"
            ]
          },
          "metadata": {
            "tags": []
          }
        }
      ]
    },
    {
      "cell_type": "code",
      "metadata": {
        "trusted": true,
        "id": "gTMxW74mK1X-",
        "colab_type": "code",
        "colab": {
          "base_uri": "https://localhost:8080/",
          "height": 198
        },
        "outputId": "32bc4608-4cdb-49a4-9d9d-ec2296146336"
      },
      "source": [
        "t=train_data.message[train_data.topic==10]\n",
        "plt.imshow(wordcloud.generate (str(t)))\n",
        "plt.axis('off')\n",
        "plt.show()"
      ],
      "execution_count": 10,
      "outputs": [
        {
          "output_type": "display_data",
          "data": {
            "image/png": "[encoded data removed]",
            "text/plain": [
              "<Figure size 432x288 with 1 Axes>"
            ]
          },
          "metadata": {
            "tags": []
          }
        }
      ]
    },
    {
      "cell_type": "code",
      "metadata": {
        "trusted": true,
        "_uuid": "f3736a58dbe4edded6e8b8c09cb3c32928ea49f4",
        "id": "lnl-vz2fK1YF",
        "colab_type": "code",
        "colab": {}
      },
      "source": [
        "#split data\n",
        "X = train_data[['id', 'message']]\n",
        "y = train_data['topic']\n",
        "\n",
        "\n",
        "X_train, X_test, y_train, y_test = train_test_split(X, y, test_size=0.3)"
      ],
      "execution_count": 0,
      "outputs": []
    },
    {
      "cell_type": "code",
      "metadata": {
        "trusted": true,
        "_uuid": "5330f5fcd0459327194c950bc061581b6104b548",
        "id": "44kfSxXoK1YJ",
        "colab_type": "code",
        "colab": {}
      },
      "source": [
        "#Clean & tokenize data\n",
        "def tokens_clean(Document):\n",
        "    \"\"\"\n",
        "    This is a tokenizer that will be used when transforming the message to a Bag of Words after cleansing.\n",
        "    \"\"\"\n",
        "    Document = re.sub('[^a-zA-Z]',' ',Document)\n",
        "    Document = Document.lower()\n",
        "    Document = word_tokenize(Document)\n",
        "    porter_stemmer=nltk.PorterStemmer()\n",
        "    Document = [porter_stemmer.stem(word) for word in Document if not word in set(stopwords.words('english'))]\n",
        "    return Document"
      ],
      "execution_count": 0,
      "outputs": []
    },
    {
      "cell_type": "markdown",
      "metadata": {
        "id": "APiHJwdSK1YO",
        "colab_type": "text"
      },
      "source": [
        "## 1) TF-IDF model + XGboost"
      ]
    },
    {
      "cell_type": "code",
      "metadata": {
        "trusted": true,
        "_uuid": "c3b56bf89f7bfdd0219efc348ad15250a5885140",
        "id": "NI_y_IJyK1YT",
        "colab_type": "code",
        "colab": {}
      },
      "source": [
        "text_clf = Pipeline([\n",
        "    ('tfidf', TfidfVectorizer(tokenizer=tokens_clean, max_df=0.3, min_df=0.001, max_features=100000)),\n",
        "    ('clf',     XGBClassifier(objective='multi:softmax', n_estimators=100, num_class=20, learning_rate=0.075, colsample_bytree=0.7, subsample=0.8, eval_metric='merror')\n",
        "  ),\n",
        "])\n",
        "\n",
        "\n",
        "text_clf.fit(X_train.message, y_train)\n",
        "predictions = text_clf.predict(X_test.message)"
      ],
      "execution_count": 0,
      "outputs": []
    },
    {
      "cell_type": "code",
      "metadata": {
        "id": "N4woGxiPRuCp",
        "colab_type": "code",
        "colab": {
          "base_uri": "https://localhost:8080/",
          "height": 700
        },
        "outputId": "d5137cff-0300-4a31-c847-42a839c2a935"
      },
      "source": [
        "#model evaluation\n",
        "print(\"Accuracy:\", accuracy_score(y_test, predictions))\n",
        "print(\"Precision:\", precision_score(y_test, predictions, average='weighted'))\n",
        "print(confusion_matrix(y_test, predictions))"
      ],
      "execution_count": 23,
      "outputs": [
        {
          "output_type": "stream",
          "text": [
            "Accuracy: 0.7920471281296023\n",
            "Precision: 0.8070636357429132\n",
            "[[112   2   0   0   0   1   1   0   0   0   1   1   1   1   2   9   1   1\n",
            "    4  23]\n",
            " [  0 115  14  10   5   8   2   0   0   1   0   0  13   1   5   0   0   0\n",
            "    1   0]\n",
            " [  0   8 144  12   0   6   2   0   0   0   0   1  11   0   3   0   2   0\n",
            "    1   0]\n",
            " [  0  11  15  99   5   2   7   4   1   0   0   2   7   0   1   0   4   0\n",
            "    0   0]\n",
            " [  0   6   1  15 139   4   6   1   0   0   0   1  15   0   1   0   0   0\n",
            "    0   0]\n",
            " [  0   6   9   6   0 157   1   0   1   1   0   0   3   2   4   0   0   0\n",
            "    0   0]\n",
            " [  0   1   2  12   4   1 124   2   3   0   1   0  12   1   3   1   1   0\n",
            "    1   0]\n",
            " [  0   1   2   7   4   0   1 141   3   2   0   1  14   2   2   1   1   0\n",
            "    1   0]\n",
            " [  0   2   0   1   1   1   3   2 171   0   0   0   5   0   1   1   0   0\n",
            "    1   0]\n",
            " [  1   0   1   1   0   0   1   0   0 160   9   0  10   1   0   0   0   0\n",
            "    1   1]\n",
            " [  0   0   0   0   1   0   0   0   0   7 149   0   5   0   0   0   0   0\n",
            "    0   0]\n",
            " [  0   2   0   1   0   0   1   0   1   0   0 163   0   1   2   1   1   0\n",
            "    2   0]\n",
            " [  0   6   1  14   2   1   2   4   2   2   0   1 122   2   1   0   1   0\n",
            "    0   0]\n",
            " [  1   4   1   3   0   5   1   1   1   2   0   1  18 164   2   0   0   2\n",
            "    1   0]\n",
            " [  1   5   0   0   1   4   4   0   1   0   0   1   9   0 136   1   0   0\n",
            "    1   0]\n",
            " [  2   0   0   0   0   1   0   1   0   0   0   1   2   0   1 150   1   1\n",
            "    1   8]\n",
            " [  0   0   1   0   0   2   2   0   2   0   1   0   5   2   1   0 130   0\n",
            "   13   2]\n",
            " [  0   1   0   1   0   1   0   2   0   1   0   0   5   0   0   1   0 149\n",
            "    3   0]\n",
            " [  0   0   2   1   1   1   1   3   1   1   0   1   4   1   1   3   5   2\n",
            "  101   1]\n",
            " [  4   2   1   1   0   2   0   2   0   0   0   3   1   3   2  19   5   2\n",
            "    3  63]]\n"
          ],
          "name": "stdout"
        }
      ]
    },
    {
      "cell_type": "markdown",
      "metadata": {
        "id": "j7J4RTMPcfXh",
        "colab_type": "text"
      },
      "source": [
        "## TEST XGBOOST ON FIRST ROW"
      ]
    },
    {
      "cell_type": "code",
      "metadata": {
        "id": "FtBZegKkR9lq",
        "colab_type": "code",
        "colab": {
          "base_uri": "https://localhost:8080/",
          "height": 521
        },
        "outputId": "708b3c91-729c-47ac-9511-d5d7eefce1c4"
      },
      "source": [
        "print('********************** MESSAGE: ********************\\n\\n'+ X_test.message[9959]+ ' *************************************************\\n\\nTrue category: ', y_test[9959],'\\nPredicted category: ',text_clf.predict([X_test.message[9959]])) \n",
        "    "
      ],
      "execution_count": 49,
      "outputs": [
        {
          "output_type": "stream",
          "text": [
            "********************** MESSAGE: ********************\n",
            "\n",
            "From: turpin@cs.utexas.edu (Russell Turpin)\r\n",
            "Subject: Re: Science and methodology (was: Homeopathy ... tradition?)\r\n",
            "Organization: CS Dept, University of Texas at Austin\r\n",
            "Lines: 18\r\n",
            "Distribution: inet\r\n",
            "NNTP-Posting-Host: im4u.cs.utexas.edu\r\n",
            "\r\n",
            "-*-----\r\n",
            "In article <1993Apr15.150550.15347@ecsvax.uncecs.edu> ccreegan@ecsvax.uncecs.edu (Charles L. Creegan) writes:\r\n",
            "> What about Kekule's infamous derivation of the idea of benzene rings\r\n",
            "> from a daydream of snakes in the fire biting their tails?  Is this\r\n",
            "> specific enough to count?  Certainly it turns up repeatedly in basic\r\n",
            "> phil. of sci. texts as an example of the inventive component of\r\n",
            "> hypothesizing. \r\n",
            "\r\n",
            "I think the question is: What is extra-scientific about this?  \r\n",
            "\r\n",
            "It has been a long time since anyone has proposed restrictions on\r\n",
            "where one comes up with ideas in order for them to be considered\r\n",
            "legitimate hypotheses.  The point, in short, is this: hypotheses and\r\n",
            "speculation in science may come from wild flights of fancy, \r\n",
            "daydreams, ancient traditions, modern quackery, or anywhere else.\r\n",
            "\r\n",
            "Russell\r\n",
            "\r\n",
            " *************************************************\n",
            "\n",
            "True category:  13 \n",
            "Predicted category:  [13]\n"
          ],
          "name": "stdout"
        }
      ]
    },
    {
      "cell_type": "markdown",
      "metadata": {
        "id": "t5Z12UOlK1Yg",
        "colab_type": "text"
      },
      "source": [
        "## 2) word2vec model + logistic regression"
      ]
    },
    {
      "cell_type": "markdown",
      "metadata": {
        "id": "1r8xKEa7OuCm",
        "colab_type": "text"
      },
      "source": [
        "## a) Data modeling (prepare tokens for each sentence) + fit the model"
      ]
    },
    {
      "cell_type": "code",
      "metadata": {
        "trusted": true,
        "id": "wBTU2_QEK1Yh",
        "colab_type": "code",
        "colab": {}
      },
      "source": [
        "#word2vec\n",
        "#prepare data\n",
        "sentences = []\n",
        "texts=[]\n",
        "# Go through each text in turn\n",
        "for ii in range(train_data.message.shape[0]):\n",
        "    sentences = [re.sub(pattern=r'[\\!\"#$%&\\*+,-./:;<=>?@^_`()|~=]', \n",
        "                        repl='', \n",
        "                        string=x\n",
        "                       ).strip().split(' ') for x in train_data.message[ii].split('\\n') \n",
        "                      if not x.endswith('writes:')]\n",
        "    sentences = [x for x in sentences if x != ['']]\n",
        "    texts.append(sentences)\n",
        "    \n",
        "all_sentences = []\n",
        "for text in texts:\n",
        "    all_sentences += text"
      ],
      "execution_count": 0,
      "outputs": []
    },
    {
      "cell_type": "code",
      "metadata": {
        "trusted": true,
        "id": "vQHozNuEK1Yl",
        "colab_type": "code",
        "colab": {}
      },
      "source": [
        "model = Word2Vec(all_sentences,size=200, workers=2, window=5,iter=30)      "
      ],
      "execution_count": 0,
      "outputs": []
    },
    {
      "cell_type": "code",
      "metadata": {
        "trusted": true,
        "id": "2L1lPSjdK1Yq",
        "colab_type": "code",
        "colab": {
          "base_uri": "https://localhost:8080/",
          "height": 33
        },
        "outputId": "31f027c6-dee1-4c53-9bce-c231b354b46a"
      },
      "source": [
        "len(model.wv.vocab)\n"
      ],
      "execution_count": 57,
      "outputs": [
        {
          "output_type": "execute_result",
          "data": {
            "text/plain": [
              "33558"
            ]
          },
          "metadata": {
            "tags": []
          },
          "execution_count": 57
        }
      ]
    },
    {
      "cell_type": "code",
      "metadata": {
        "trusted": true,
        "id": "IcJeNzvlK1Yu",
        "colab_type": "code",
        "colab": {
          "base_uri": "https://localhost:8080/",
          "height": 70
        },
        "outputId": "3e281df5-825f-436e-80e2-39cb9ee3fbc2"
      },
      "source": [
        "trainvect=[]\n",
        "n=int(11314*0.7)\n",
        "for text in texts[:n]:\n",
        "  text_vect=0\n",
        "  nword=0\n",
        "  for sent in text:\n",
        "    for word in sent:\n",
        "        if word in model.wv.vocab:\n",
        "            nword+=1\n",
        "            text_vect+=model[word]\n",
        "  trainvect.append(text_vect/nword)"
      ],
      "execution_count": 58,
      "outputs": [
        {
          "output_type": "stream",
          "text": [
            "/usr/local/lib/python3.6/dist-packages/ipykernel_launcher.py:10: DeprecationWarning: Call to deprecated `__getitem__` (Method will be removed in 4.0.0, use self.wv.__getitem__() instead).\n",
            "  # Remove the CWD from sys.path while we load stuff.\n"
          ],
          "name": "stderr"
        }
      ]
    },
    {
      "cell_type": "code",
      "metadata": {
        "trusted": true,
        "id": "VHv7gxJmK1Yy",
        "colab_type": "code",
        "colab": {
          "base_uri": "https://localhost:8080/",
          "height": 70
        },
        "outputId": "9be2a552-7a76-4717-efe2-f8f378730334"
      },
      "source": [
        "testvect=[]\n",
        "n=int(11314*0.7)\n",
        "for text in texts[n:]:\n",
        "  text_vect=0\n",
        "  nword=0\n",
        "  for sent in text:\n",
        "    for word in sent:\n",
        "        if word in model.wv.vocab:\n",
        "            nword+=1\n",
        "            text_vect+=model[word]\n",
        "  testvect.append(text_vect/nword)"
      ],
      "execution_count": 59,
      "outputs": [
        {
          "output_type": "stream",
          "text": [
            "/usr/local/lib/python3.6/dist-packages/ipykernel_launcher.py:10: DeprecationWarning: Call to deprecated `__getitem__` (Method will be removed in 4.0.0, use self.wv.__getitem__() instead).\n",
            "  # Remove the CWD from sys.path while we load stuff.\n"
          ],
          "name": "stderr"
        }
      ]
    },
    {
      "cell_type": "markdown",
      "metadata": {
        "id": "sqnQnYEwPkr-",
        "colab_type": "text"
      },
      "source": [
        "## b) Classification using word2vec"
      ]
    },
    {
      "cell_type": "code",
      "metadata": {
        "trusted": true,
        "id": "Iz1gFdD9K1Y9",
        "colab_type": "code",
        "colab": {
          "base_uri": "https://localhost:8080/",
          "height": 98
        },
        "outputId": "b476e5f0-db1e-4310-8cbe-219916f7d52d"
      },
      "source": [
        "clf=LogisticRegression(solver='liblinear')\n",
        "clf.fit(trainvect, y_train)"
      ],
      "execution_count": 60,
      "outputs": [
        {
          "output_type": "execute_result",
          "data": {
            "text/plain": [
              "LogisticRegression(C=1.0, class_weight=None, dual=False, fit_intercept=True,\n",
              "                   intercept_scaling=1, l1_ratio=None, max_iter=100,\n",
              "                   multi_class='auto', n_jobs=None, penalty='l2',\n",
              "                   random_state=None, solver='liblinear', tol=0.0001, verbose=0,\n",
              "                   warm_start=False)"
            ]
          },
          "metadata": {
            "tags": []
          },
          "execution_count": 60
        }
      ]
    },
    {
      "cell_type": "code",
      "metadata": {
        "trusted": true,
        "id": "8d8_STRvK1ZO",
        "colab_type": "code",
        "colab": {}
      },
      "source": [
        "predictions=clf.predict(testvect)"
      ],
      "execution_count": 0,
      "outputs": []
    },
    {
      "cell_type": "code",
      "metadata": {
        "trusted": true,
        "_uuid": "7ea5e0ee1962f8ad4352adcb1b5eebc9f5c0e1e9",
        "scrolled": false,
        "id": "PsYdPRSDK1YY",
        "colab_type": "code",
        "colab": {
          "base_uri": "https://localhost:8080/",
          "height": 375
        },
        "outputId": "3d76d339-49fe-45fe-b217-e3d8a582e432"
      },
      "source": [
        "#model evaluation\n",
        "print(\"Accuracy:\", accuracy_score(y_test, predictions))\n",
        "print(\"Precision:\", precision_score(y_test, predictions, average='weighted'))\n",
        "print(confusion_matrix(y_test, predictions))"
      ],
      "execution_count": 62,
      "outputs": [
        {
          "output_type": "stream",
          "text": [
            "Accuracy: 0.05184094256259205\n",
            "Precision: 0.05383111562321546\n",
            "[[ 6 10  4 12  8  7  7 12 11  6 15  8 12  7  9 12  2  8  1  3]\n",
            " [ 5  7  6 18  8  5 13 12  9  5 14 12  8  9 14  6  9 12  1  2]\n",
            " [ 3  7  9 13  9 12  6 11 11 10 19 10  9 13 14  9  7 14  2  2]\n",
            " [ 3  6  5  9  9  3  8  7 11  5 15 10  9 12 11 10 11  9  3  2]\n",
            " [ 2  8 10 11  8 11 12  8  8  8 15 12 10 13  8 20  6 10  4  5]\n",
            " [ 4  9  8 12  6 11 11 16 10  9 12 11 15 11 17 18  5  2  2  1]\n",
            " [ 1  5  7 16 11  8  8  8  9  4 21  9  7 12  9 13  8  6  4  3]\n",
            " [ 4  8  8 16  8 10 12 12 13  6 17  7 10  9 12 10  5 12  2  2]\n",
            " [ 5  5  8 14  7  9 14  9  8  8 14 14 14 10 16 23  2  5  3  1]\n",
            " [ 7  6  7 15 12  5 10 11 12  9  6 10 10 14 13 15  2 16  4  2]\n",
            " [ 2  6  3 12  7 12  9 11 12  4 18  8  8  8  8 12  6 10  3  3]\n",
            " [ 2 11  5 19  8  7  8 14 11  7 10  7 11 10 10 13 10 10  1  1]\n",
            " [ 3  8 14 11  7 13 17  6 12  6 14  6  6 11  7  3  2  8  3  4]\n",
            " [ 3 10 12 23  7 10 19 14 10  7 17  7  7  7 12 20  4 12  5  1]\n",
            " [ 2  8  5 13  7 11  4 11  7  9 10 10 11  8  9 10  8 13  6  2]\n",
            " [ 2 11  6  9 10  3  6  5 10  9 11 18 11  8 12 17  8  8  4  1]\n",
            " [ 1  8 13 10 10 10 10  3  6  2 14  5 12 13  9 11  7 10  5  2]\n",
            " [ 0 12  6 13  5  9 16 11  7  7  8  6 15  9  5 13  6 12  4  0]\n",
            " [ 2  6  3 10  4  6  3 15 10  7  6 10 10  5  7  6  6  6  5  3]\n",
            " [ 1  4  3  6 10 11  7  7  8  4  6  8  5 12  5  9  0  1  5  1]]\n"
          ],
          "name": "stdout"
        }
      ]
    },
    {
      "cell_type": "markdown",
      "metadata": {
        "id": "6czg8kGxK1Zj",
        "colab_type": "text"
      },
      "source": [
        "# II. TOPIC MODELING"
      ]
    },
    {
      "cell_type": "code",
      "metadata": {
        "trusted": true,
        "id": "qwDXpH9GK1Zl",
        "colab_type": "code",
        "colab": {}
      },
      "source": [
        "def display_topics(model, feature_names, no_top_words):\n",
        "    for topic_idx, topic in enumerate(model.components_):\n",
        "        print( \"Topic %d:\" % (topic_idx) )\n",
        "        print (\" \".join([feature_names[i]\n",
        "                        for i in topic.argsort()[:-no_top_words - 1:-1]]))"
      ],
      "execution_count": 0,
      "outputs": []
    },
    {
      "cell_type": "markdown",
      "metadata": {
        "id": "fgUrkiX5K1Zt",
        "colab_type": "text"
      },
      "source": [
        "## 1) LDA"
      ]
    },
    {
      "cell_type": "code",
      "metadata": {
        "trusted": true,
        "id": "bS5vR86RK1Zu",
        "colab_type": "code",
        "colab": {}
      },
      "source": [
        "# LDA can only use raw term counts for LDA because it is a probabilistic graphical model\n",
        "tf_vectorizer = CountVectorizer(tokenizer=tokens_clean, max_df=0.3, min_df=0.001, max_features=100000)\n",
        "tf = tf_vectorizer.fit_transform(train_data.message)\n",
        "tf_feature_names = tf_vectorizer.get_feature_names()\n"
      ],
      "execution_count": 0,
      "outputs": []
    },
    {
      "cell_type": "code",
      "metadata": {
        "trusted": true,
        "id": "1lPl_hThK1Zz",
        "colab_type": "code",
        "colab": {}
      },
      "source": [
        "no_topics = 20\n",
        "no_top_words = 10"
      ],
      "execution_count": 0,
      "outputs": []
    },
    {
      "cell_type": "code",
      "metadata": {
        "trusted": true,
        "id": "fNXH5cD7K1Z5",
        "colab_type": "code",
        "colab": {
          "base_uri": "https://localhost:8080/",
          "height": 667
        },
        "outputId": "2687f881-cadc-4f00-bfd6-055633f556be"
      },
      "source": [
        "# Run LDA\n",
        "lda = LatentDirichletAllocation(n_components=no_topics, max_iter=5, learning_method='online', learning_offset=50,random_state=0).fit(tf)\n",
        "\n",
        "display_topics(lda, tf_feature_names, no_top_words)\n"
      ],
      "execution_count": 69,
      "outputs": [
        {
          "output_type": "stream",
          "text": [
            "Topic 0:\n",
            "card driver video monitor mous bu port problem mode bit\n",
            "Topic 1:\n",
            "gun control weapon state scsi firearm crime law ide rate\n",
            "Topic 2:\n",
            "peopl god say think believ christian make thing us time\n",
            "Topic 3:\n",
            "drive system mac disk do mb comput window appl thank\n",
            "Topic 4:\n",
            "x n ibm de output tu c col rule p\n",
            "Topic 5:\n",
            "water font mcgill nuclear cool eo ncsu sg tower alan\n",
            "Topic 6:\n",
            "space nasa gov orbit launch access center research earth year\n",
            "Topic 7:\n",
            "w r p u g c b k v q\n",
            "Topic 8:\n",
            "uk keith co moral object scienc cs utexa frank atheism\n",
            "Topic 9:\n",
            "go year think time good last well game look back\n",
            "Topic 10:\n",
            "key encrypt chip secur clipper govern de system public law\n",
            "Topic 11:\n",
            "pitt food health medic gordon bank diseas msg cs patient\n",
            "Topic 12:\n",
            "printer mil hp ti navi print ra rose dseg jason\n",
            "Topic 13:\n",
            "ax max q f g v p u b r\n",
            "Topic 14:\n",
            "armenian turkish peopl said presid mr greek war turk govern\n",
            "Topic 15:\n",
            "x file window program mail version imag c avail inform\n",
            "Topic 16:\n",
            "israel isra jew arab columbia jewish kill right islam state\n",
            "Topic 17:\n",
            "ac uiuc ohio state c cso news homosexu apr virginia\n",
            "Topic 18:\n",
            "ca team game play hockey player win nhl pt canada\n",
            "Topic 19:\n",
            "car bike good engin look ca wire need time want\n"
          ],
          "name": "stdout"
        }
      ]
    },
    {
      "cell_type": "code",
      "metadata": {
        "trusted": true,
        "id": "6cn4W4JfK1aA",
        "colab_type": "code",
        "colab": {}
      },
      "source": [
        "topic_values = lda.transform(tf)\n",
        "train_data['TOPIC_LDA'] = topic_values.argmax(axis=1)"
      ],
      "execution_count": 0,
      "outputs": []
    },
    {
      "cell_type": "code",
      "metadata": {
        "trusted": true,
        "id": "DUNkUPznK1aF",
        "colab_type": "code",
        "colab": {
          "base_uri": "https://localhost:8080/",
          "height": 335
        },
        "outputId": "d3fc3b9a-dd51-4ebe-8b6e-daf89653c1ed"
      },
      "source": [
        "train_data.head(10)"
      ],
      "execution_count": 71,
      "outputs": [
        {
          "output_type": "execute_result",
          "data": {
            "text/html": [
              "<div>\n",
              "<style scoped>\n",
              "    .dataframe tbody tr th:only-of-type {\n",
              "        vertical-align: middle;\n",
              "    }\n",
              "\n",
              "    .dataframe tbody tr th {\n",
              "        vertical-align: top;\n",
              "    }\n",
              "\n",
              "    .dataframe thead th {\n",
              "        text-align: right;\n",
              "    }\n",
              "</style>\n",
              "<table border=\"1\" class=\"dataframe\">\n",
              "  <thead>\n",
              "    <tr style=\"text-align: right;\">\n",
              "      <th></th>\n",
              "      <th>id</th>\n",
              "      <th>message</th>\n",
              "      <th>topic</th>\n",
              "      <th>TOPIC_LDA</th>\n",
              "    </tr>\n",
              "  </thead>\n",
              "  <tbody>\n",
              "    <tr>\n",
              "      <th>0</th>\n",
              "      <td>0</td>\n",
              "      <td>From: lerxst@wam.umd.edu (where's my thing)\\r\\...</td>\n",
              "      <td>7</td>\n",
              "      <td>19</td>\n",
              "    </tr>\n",
              "    <tr>\n",
              "      <th>1</th>\n",
              "      <td>1</td>\n",
              "      <td>From: guykuo@carson.u.washington.edu (Guy Kuo)...</td>\n",
              "      <td>4</td>\n",
              "      <td>3</td>\n",
              "    </tr>\n",
              "    <tr>\n",
              "      <th>2</th>\n",
              "      <td>2</td>\n",
              "      <td>From: twillis@ec.ecn.purdue.edu (Thomas E Will...</td>\n",
              "      <td>4</td>\n",
              "      <td>3</td>\n",
              "    </tr>\n",
              "    <tr>\n",
              "      <th>3</th>\n",
              "      <td>3</td>\n",
              "      <td>From: jgreen@amber (Joe Green)\\r\\nSubject: Re:...</td>\n",
              "      <td>1</td>\n",
              "      <td>19</td>\n",
              "    </tr>\n",
              "    <tr>\n",
              "      <th>4</th>\n",
              "      <td>4</td>\n",
              "      <td>From: jcm@head-cfa.harvard.edu (Jonathan McDow...</td>\n",
              "      <td>14</td>\n",
              "      <td>15</td>\n",
              "    </tr>\n",
              "    <tr>\n",
              "      <th>5</th>\n",
              "      <td>5</td>\n",
              "      <td>From: dfo@vttoulu.tko.vtt.fi (Foxvog Douglas)\\...</td>\n",
              "      <td>16</td>\n",
              "      <td>1</td>\n",
              "    </tr>\n",
              "    <tr>\n",
              "      <th>6</th>\n",
              "      <td>6</td>\n",
              "      <td>From: bmdelane@quads.uchicago.edu (brian manni...</td>\n",
              "      <td>13</td>\n",
              "      <td>9</td>\n",
              "    </tr>\n",
              "    <tr>\n",
              "      <th>7</th>\n",
              "      <td>7</td>\n",
              "      <td>From: bgrubb@dante.nmsu.edu (GRUBB)\\r\\nSubject...</td>\n",
              "      <td>3</td>\n",
              "      <td>1</td>\n",
              "    </tr>\n",
              "    <tr>\n",
              "      <th>8</th>\n",
              "      <td>8</td>\n",
              "      <td>From: holmes7000@iscsvax.uni.edu\\r\\nSubject: W...</td>\n",
              "      <td>2</td>\n",
              "      <td>15</td>\n",
              "    </tr>\n",
              "    <tr>\n",
              "      <th>9</th>\n",
              "      <td>9</td>\n",
              "      <td>From: kerr@ux1.cso.uiuc.edu (Stan Kerr)\\r\\nSub...</td>\n",
              "      <td>4</td>\n",
              "      <td>3</td>\n",
              "    </tr>\n",
              "  </tbody>\n",
              "</table>\n",
              "</div>"
            ],
            "text/plain": [
              "   id                                            message  topic  TOPIC_LDA\n",
              "0   0  From: lerxst@wam.umd.edu (where's my thing)\\r\\...      7         19\n",
              "1   1  From: guykuo@carson.u.washington.edu (Guy Kuo)...      4          3\n",
              "2   2  From: twillis@ec.ecn.purdue.edu (Thomas E Will...      4          3\n",
              "3   3  From: jgreen@amber (Joe Green)\\r\\nSubject: Re:...      1         19\n",
              "4   4  From: jcm@head-cfa.harvard.edu (Jonathan McDow...     14         15\n",
              "5   5  From: dfo@vttoulu.tko.vtt.fi (Foxvog Douglas)\\...     16          1\n",
              "6   6  From: bmdelane@quads.uchicago.edu (brian manni...     13          9\n",
              "7   7  From: bgrubb@dante.nmsu.edu (GRUBB)\\r\\nSubject...      3          1\n",
              "8   8  From: holmes7000@iscsvax.uni.edu\\r\\nSubject: W...      2         15\n",
              "9   9  From: kerr@ux1.cso.uiuc.edu (Stan Kerr)\\r\\nSub...      4          3"
            ]
          },
          "metadata": {
            "tags": []
          },
          "execution_count": 71
        }
      ]
    },
    {
      "cell_type": "markdown",
      "metadata": {
        "id": "dT59BgBFK1aL",
        "colab_type": "text"
      },
      "source": [
        "## 2) NMF"
      ]
    },
    {
      "cell_type": "code",
      "metadata": {
        "trusted": true,
        "id": "H6o8X8i0K1aO",
        "colab_type": "code",
        "colab": {}
      },
      "source": [
        "# NMF is able to use tf-idf\n",
        "tfidf_vectorizer = TfidfVectorizer(tokenizer=tokens_clean, max_df=0.3, min_df=0.001, max_features=100000)\n",
        "tfidf = tfidf_vectorizer.fit_transform(train_data.message)\n",
        "tfidf_feature_names = tfidf_vectorizer.get_feature_names()"
      ],
      "execution_count": 0,
      "outputs": []
    },
    {
      "cell_type": "code",
      "metadata": {
        "trusted": true,
        "id": "A2HMbdHRK1aU",
        "colab_type": "code",
        "colab": {
          "base_uri": "https://localhost:8080/",
          "height": 667
        },
        "outputId": "f060ac6e-407b-4cd1-97ec-bda25b03fb64"
      },
      "source": [
        "# Run NMF\n",
        "nmf = NMF(n_components=no_topics, random_state=1, alpha=.1, l1_ratio=.5, init='nndsvd').fit(tfidf)\n",
        "\n",
        "display_topics(nmf, tfidf_feature_names, no_top_words)"
      ],
      "execution_count": 73,
      "outputs": [
        {
          "output_type": "stream",
          "text": [
            "Topic 0:\n",
            "god christian jesu bibl believ faith exist christ say peopl\n",
            "Topic 1:\n",
            "window file do ms program run mous driver manag win\n",
            "Topic 2:\n",
            "game team player play win hockey season score year nhl\n",
            "Topic 3:\n",
            "key encrypt chip clipper escrow secur govern algorithm crypto secret\n",
            "Topic 4:\n",
            "drive scsi mb ide disk card hard control floppi bu\n",
            "Topic 5:\n",
            "gun firearm weapon crime crimin law handgun control peopl polic\n",
            "Topic 6:\n",
            "pitt geb gordon bank cs cadr dsl jxp chastiti intellect\n",
            "Topic 7:\n",
            "car dealer price mile driver drive insur speed k saturn\n",
            "Topic 8:\n",
            "nasa gov space larc jpl orbit gsfc jsc baalk center\n",
            "Topic 9:\n",
            "armenian turkish armenia argic serdar turk turkey genocid zuma soviet\n",
            "Topic 10:\n",
            "israel isra arab jew palestinian lebanes boni polici jewish peac\n",
            "Topic 11:\n",
            "keith moral caltech livesey sgi solntz wpd object cco jon\n",
            "Topic 12:\n",
            "ohio magnu state ac magnusug ci drug ryan bottom scharfi\n",
            "Topic 13:\n",
            "uk ac co dc mathew manti ed cam demon brunel\n",
            "Topic 14:\n",
            "cleveland cwru freenet in reserv western po case usa hela\n",
            "Topic 15:\n",
            "x card r version color server p c graphic pl\n",
            "Topic 16:\n",
            "peopl think time go good want make thing could new\n",
            "Topic 17:\n",
            "ca bnr canada bc uwo carleton ontario sfu ubc freenet\n",
            "Topic 18:\n",
            "sandvik appl kent newton ksand alink cookamunga tourist bureau cheer\n",
            "Topic 19:\n",
            "columbia gld cc cunixb dare gari l domi cunixc souvien\n"
          ],
          "name": "stdout"
        }
      ]
    },
    {
      "cell_type": "code",
      "metadata": {
        "id": "pWsKRHfMP-5q",
        "colab_type": "code",
        "colab": {}
      },
      "source": [
        "topic_values = lda.transform(tfidf)\n",
        "train_data['TOPIC_NMF'] = topic_values.argmax(axis=1)"
      ],
      "execution_count": 0,
      "outputs": []
    },
    {
      "cell_type": "code",
      "metadata": {
        "id": "vHbr15w4P_JO",
        "colab_type": "code",
        "colab": {
          "base_uri": "https://localhost:8080/",
          "height": 335
        },
        "outputId": "9303a321-2747-424b-aa3a-eefedf2c0ad0"
      },
      "source": [
        "train_data.head(10)"
      ],
      "execution_count": 75,
      "outputs": [
        {
          "output_type": "execute_result",
          "data": {
            "text/html": [
              "<div>\n",
              "<style scoped>\n",
              "    .dataframe tbody tr th:only-of-type {\n",
              "        vertical-align: middle;\n",
              "    }\n",
              "\n",
              "    .dataframe tbody tr th {\n",
              "        vertical-align: top;\n",
              "    }\n",
              "\n",
              "    .dataframe thead th {\n",
              "        text-align: right;\n",
              "    }\n",
              "</style>\n",
              "<table border=\"1\" class=\"dataframe\">\n",
              "  <thead>\n",
              "    <tr style=\"text-align: right;\">\n",
              "      <th></th>\n",
              "      <th>id</th>\n",
              "      <th>message</th>\n",
              "      <th>topic</th>\n",
              "      <th>TOPIC_LDA</th>\n",
              "      <th>TOPIC_NMF</th>\n",
              "    </tr>\n",
              "  </thead>\n",
              "  <tbody>\n",
              "    <tr>\n",
              "      <th>0</th>\n",
              "      <td>0</td>\n",
              "      <td>From: lerxst@wam.umd.edu (where's my thing)\\r\\...</td>\n",
              "      <td>7</td>\n",
              "      <td>19</td>\n",
              "      <td>19</td>\n",
              "    </tr>\n",
              "    <tr>\n",
              "      <th>1</th>\n",
              "      <td>1</td>\n",
              "      <td>From: guykuo@carson.u.washington.edu (Guy Kuo)...</td>\n",
              "      <td>4</td>\n",
              "      <td>3</td>\n",
              "      <td>3</td>\n",
              "    </tr>\n",
              "    <tr>\n",
              "      <th>2</th>\n",
              "      <td>2</td>\n",
              "      <td>From: twillis@ec.ecn.purdue.edu (Thomas E Will...</td>\n",
              "      <td>4</td>\n",
              "      <td>3</td>\n",
              "      <td>3</td>\n",
              "    </tr>\n",
              "    <tr>\n",
              "      <th>3</th>\n",
              "      <td>3</td>\n",
              "      <td>From: jgreen@amber (Joe Green)\\r\\nSubject: Re:...</td>\n",
              "      <td>1</td>\n",
              "      <td>19</td>\n",
              "      <td>19</td>\n",
              "    </tr>\n",
              "    <tr>\n",
              "      <th>4</th>\n",
              "      <td>4</td>\n",
              "      <td>From: jcm@head-cfa.harvard.edu (Jonathan McDow...</td>\n",
              "      <td>14</td>\n",
              "      <td>15</td>\n",
              "      <td>15</td>\n",
              "    </tr>\n",
              "    <tr>\n",
              "      <th>5</th>\n",
              "      <td>5</td>\n",
              "      <td>From: dfo@vttoulu.tko.vtt.fi (Foxvog Douglas)\\...</td>\n",
              "      <td>16</td>\n",
              "      <td>1</td>\n",
              "      <td>1</td>\n",
              "    </tr>\n",
              "    <tr>\n",
              "      <th>6</th>\n",
              "      <td>6</td>\n",
              "      <td>From: bmdelane@quads.uchicago.edu (brian manni...</td>\n",
              "      <td>13</td>\n",
              "      <td>9</td>\n",
              "      <td>9</td>\n",
              "    </tr>\n",
              "    <tr>\n",
              "      <th>7</th>\n",
              "      <td>7</td>\n",
              "      <td>From: bgrubb@dante.nmsu.edu (GRUBB)\\r\\nSubject...</td>\n",
              "      <td>3</td>\n",
              "      <td>1</td>\n",
              "      <td>1</td>\n",
              "    </tr>\n",
              "    <tr>\n",
              "      <th>8</th>\n",
              "      <td>8</td>\n",
              "      <td>From: holmes7000@iscsvax.uni.edu\\r\\nSubject: W...</td>\n",
              "      <td>2</td>\n",
              "      <td>15</td>\n",
              "      <td>3</td>\n",
              "    </tr>\n",
              "    <tr>\n",
              "      <th>9</th>\n",
              "      <td>9</td>\n",
              "      <td>From: kerr@ux1.cso.uiuc.edu (Stan Kerr)\\r\\nSub...</td>\n",
              "      <td>4</td>\n",
              "      <td>3</td>\n",
              "      <td>3</td>\n",
              "    </tr>\n",
              "  </tbody>\n",
              "</table>\n",
              "</div>"
            ],
            "text/plain": [
              "   id                                            message  ...  TOPIC_LDA  TOPIC_NMF\n",
              "0   0  From: lerxst@wam.umd.edu (where's my thing)\\r\\...  ...         19         19\n",
              "1   1  From: guykuo@carson.u.washington.edu (Guy Kuo)...  ...          3          3\n",
              "2   2  From: twillis@ec.ecn.purdue.edu (Thomas E Will...  ...          3          3\n",
              "3   3  From: jgreen@amber (Joe Green)\\r\\nSubject: Re:...  ...         19         19\n",
              "4   4  From: jcm@head-cfa.harvard.edu (Jonathan McDow...  ...         15         15\n",
              "5   5  From: dfo@vttoulu.tko.vtt.fi (Foxvog Douglas)\\...  ...          1          1\n",
              "6   6  From: bmdelane@quads.uchicago.edu (brian manni...  ...          9          9\n",
              "7   7  From: bgrubb@dante.nmsu.edu (GRUBB)\\r\\nSubject...  ...          1          1\n",
              "8   8  From: holmes7000@iscsvax.uni.edu\\r\\nSubject: W...  ...         15          3\n",
              "9   9  From: kerr@ux1.cso.uiuc.edu (Stan Kerr)\\r\\nSub...  ...          3          3\n",
              "\n",
              "[10 rows x 5 columns]"
            ]
          },
          "metadata": {
            "tags": []
          },
          "execution_count": 75
        }
      ]
    },
    {
      "cell_type": "markdown",
      "metadata": {
        "id": "wN6GdxXgK1aY",
        "colab_type": "text"
      },
      "source": [
        "# III. Text Summarization using TFIDF"
      ]
    },
    {
      "cell_type": "code",
      "metadata": {
        "trusted": true,
        "id": "E-95Jft_K1aZ",
        "colab_type": "code",
        "colab": {}
      },
      "source": [
        "def remove_special_characters(text):\n",
        "  regex = r'[^a-zA-Z0-9\\s]'\n",
        "  text = re.sub('[^a-zA-Z]',' ',text)\n",
        "  return text\n",
        "def freq(words):\n",
        "  words = [word.lower() for word in words]\n",
        "  dict_freq = {}\n",
        "  words_unique = []\n",
        "  for word in words:\n",
        "    if word not in words_unique:\n",
        "      words_unique.append(word)\n",
        "  for word in words_unique:\n",
        "    dict_freq[word] = words.count(word)\n",
        "  return dict_freq\n",
        "def pos_tagging(text):\n",
        "  pos_tag = nltk.pos_tag(text.split())\n",
        "  pos_tagged_noun_verb = []\n",
        "  for word,tag in pos_tag:\n",
        "    if tag == \"NN\" or tag == \"NNP\" or tag == \"NNS\" or tag == \"VB\" or tag == \"VBD\" or tag == \"VBG\" or tag == \"VBN\" or tag == \"VBP\" or tag == \"VBZ\":\n",
        "      pos_tagged_noun_verb.append(word)\n",
        "  return pos_tagged_noun_verb\n",
        "def tf_score(word,sentence):\n",
        "  word_frequency_in_sentence = 0\n",
        "  len_sentence = len(sentence)\n",
        "  for word_in_sentence in sentence.split():\n",
        "    if word == word_in_sentence:\n",
        "      word_frequency_in_sentence = word_frequency_in_sentence + 1\n",
        "  tf = word_frequency_in_sentence/ len_sentence\n",
        "  return tf\n",
        "def idf_score(no_of_sentences,word,sentences):\n",
        "  no_of_sentence_containing_word = 0\n",
        "  for sentence in sentences:\n",
        "    sentence = remove_special_characters(str(sentence))\n",
        "    sentence = re.sub(r'\\d+', '', sentence)\n",
        "    sentence = sentence.split()\n",
        "    sentence = [word for word in sentence if word.lower() not in Stopwords and len(word)>1]\n",
        "    sentence = [word.lower() for word in sentence]\n",
        "    no_of_sentence_containing_word=1\n",
        "    if word in sentence:\n",
        "      no_of_sentence_containing_word += no_of_sentence_containing_word\n",
        "  idf = math.log10(no_of_sentences/no_of_sentence_containing_word)\n",
        "  return idf\n",
        "def tf_idf_score(tf,idf):\n",
        "  return tf*idf\n",
        "def word_tfidf(dict_freq,word,sentences,sentence):\n",
        "  tf = tf_score(word,sentence)\n",
        "  idf = idf_score(len(sentences),word,sentences)\n",
        "  tf_idf = tf_idf_score(tf,idf)\n",
        "  return tf_idf\n",
        "def sentence_importance(sentence,dict_freq,sentences):\n",
        "  sentence_score = 0\n",
        "  sentence = remove_special_characters(str(sentence))\n",
        "  pos_tagged_sentence = []\n",
        "  pos_tagged_sentence = pos_tagging(sentence)\n",
        "  for word in pos_tagged_sentence:\n",
        "    if word.lower() not in Stopwords and word not in Stopwords and len(word)>1:\n",
        "      word = word.lower()\n",
        "      sentence_score = sentence_score + word_tfidf(dict_freq,word,sentences,sentence)\n",
        "  return sentence_score"
      ],
      "execution_count": 0,
      "outputs": []
    },
    {
      "cell_type": "code",
      "metadata": {
        "trusted": true,
        "id": "dN4scPW3K1ad",
        "colab_type": "code",
        "colab": {}
      },
      "source": [
        "def summarize(DOCUMENT):\n",
        "    text = DOCUMENT\n",
        "    tokenized_sentence = sent_tokenize(text)\n",
        "    text = remove_special_characters(str(text))\n",
        "    tokenized_words_with_stopwords = word_tokenize(text)\n",
        "    tokenized_words = [word for word in tokenized_words_with_stopwords if word not in\n",
        "    Stopwords]\n",
        "    tokenized_words = [word for word in tokenized_words if len(word) > 1]\n",
        "    tokenized_words = [word.lower() for word in tokenized_words]\n",
        "    word_freq = freq(tokenized_words)\n",
        "    no_of_sentences = 2\n",
        "    #print(no_of_sentences)\n",
        "    c = 1\n",
        "    sentence_with_importance = {}\n",
        "    for sent in tokenized_sentence:\n",
        "      sentenceimp = sentence_importance(sent,word_freq,tokenized_sentence)\n",
        "      sentence_with_importance[c] = sentenceimp\n",
        "      c = c+1\n",
        "    sentence_with_importance = sorted(sentence_with_importance.items(),\n",
        "    key=operator.itemgetter(1),reverse=True)\n",
        "    cnt = 0\n",
        "    summary = []\n",
        "    sentence_no = []\n",
        "    for word_prob in sentence_with_importance:\n",
        "      if cnt < no_of_sentences:\n",
        "        sentence_no.append(word_prob[0])\n",
        "        cnt = cnt+1\n",
        "      else:\n",
        "        break\n",
        "    sentence_no.sort()\n",
        "    cnt = 0\n",
        "    for sentence in tokenized_sentence:\n",
        "      if cnt in sentence_no:\n",
        "        summary.append(sentence)\n",
        "      cnt = cnt+1\n",
        "    return \" \".join(summary)"
      ],
      "execution_count": 0,
      "outputs": []
    },
    {
      "cell_type": "code",
      "metadata": {
        "trusted": true,
        "id": "2u3st8NYK1ai",
        "colab_type": "code",
        "colab": {
          "base_uri": "https://localhost:8080/",
          "height": 53
        },
        "outputId": "88d51963-b10b-4ed5-81e5-0d8808e0b452"
      },
      "source": [
        "train_data.message[0]"
      ],
      "execution_count": 78,
      "outputs": [
        {
          "output_type": "execute_result",
          "data": {
            "text/plain": [
              "\"From: lerxst@wam.umd.edu (where's my thing)\\r\\nSubject: WHAT car is this!?\\r\\nNntp-Posting-Host: rac3.wam.umd.edu\\r\\nOrganization: University of Maryland, College Park\\r\\nLines: 15\\r\\n\\r\\n I was wondering if anyone out there could enlighten me on this car I saw\\r\\nthe other day. It was a 2-door sports car, looked to be from the late 60s/\\r\\nearly 70s. It was called a Bricklin. The doors were really small. In addition,\\r\\nthe front bumper was separate from the rest of the body. This is \\r\\nall I know. If anyone can tellme a model name, engine specs, years\\r\\nof production, where this car is made, history, or whatever info you\\r\\nhave on this funky looking car, please e-mail.\\r\\n\\r\\nThanks,\\r\\n- IL\\r\\n   ---- brought to you by your neighborhood Lerxst ----\\r\\n\\r\\n\\r\\n\\r\\n\\r\\n\""
            ]
          },
          "metadata": {
            "tags": []
          },
          "execution_count": 78
        }
      ]
    },
    {
      "cell_type": "code",
      "metadata": {
        "trusted": true,
        "id": "trQL3MRPK1al",
        "colab_type": "code",
        "colab": {
          "base_uri": "https://localhost:8080/",
          "height": 33
        },
        "outputId": "c558684f-fdb8-475b-d55d-10f46feb628e"
      },
      "source": [
        "#two sentences\n",
        "summarize(train_data.message[0])"
      ],
      "execution_count": 80,
      "outputs": [
        {
          "output_type": "execute_result",
          "data": {
            "text/plain": [
              "'This is \\r\\nall I know. Thanks,\\r\\n- IL\\r\\n   ---- brought to you by your neighborhood Lerxst ----'"
            ]
          },
          "metadata": {
            "tags": []
          },
          "execution_count": 80
        }
      ]
    },
    {
      "cell_type": "code",
      "metadata": {
        "trusted": true,
        "id": "AYMtQKG8K1ao",
        "colab_type": "code",
        "colab": {
          "base_uri": "https://localhost:8080/",
          "height": 98
        },
        "outputId": "bb33dd24-fb1c-44a5-8925-9f9f5444bc54"
      },
      "source": [
        "reference = train_data.message[0]\n",
        "candidate = summarize(train_data.message[0])\n",
        "score = sentence_bleu(reference, candidate)\n",
        "print(score)"
      ],
      "execution_count": 82,
      "outputs": [
        {
          "output_type": "stream",
          "text": [
            "0.7360274036243225\n"
          ],
          "name": "stdout"
        },
        {
          "output_type": "stream",
          "text": [
            "/usr/local/lib/python3.6/dist-packages/nltk/translate/bleu_score.py:490: UserWarning: \n",
            "Corpus/Sentence contains 0 counts of 2-gram overlaps.\n",
            "BLEU scores might be undesirable; use SmoothingFunction().\n",
            "  warnings.warn(_msg)\n"
          ],
          "name": "stderr"
        }
      ]
    },
    {
      "cell_type": "code",
      "metadata": {
        "trusted": true,
        "id": "iGa0zM6VK1ar",
        "colab_type": "code",
        "colab": {}
      },
      "source": [
        "summaries=[]\n",
        "for DOCUMENT in train_data.message:\n",
        "    summaries.append(summarize(DOCUMENT))"
      ],
      "execution_count": 0,
      "outputs": []
    },
    {
      "cell_type": "code",
      "metadata": {
        "trusted": true,
        "id": "ltBHdrDEK1av",
        "colab_type": "code",
        "colab": {}
      },
      "source": [
        "train_data['summary']=summaries\n",
        "train_data.head(10)"
      ],
      "execution_count": 0,
      "outputs": []
    },
    {
      "cell_type": "markdown",
      "metadata": {
        "id": "M4KOlF_2K1a9",
        "colab_type": "text"
      },
      "source": [
        "## VI. SENTIMENT ANALYSIS"
      ]
    },
    {
      "cell_type": "code",
      "metadata": {
        "trusted": true,
        "id": "3L8sAarcK1bF",
        "colab_type": "code",
        "colab": {}
      },
      "source": [
        "\"\"\"\n",
        "pkl_file = open('../input/model-sentiment-analysis/vectorizer.pkl', 'rb')\n",
        "vectorizer= pickle.load(pkl_file) \n",
        "pkl_file.close()\n",
        "\n",
        "pkl_file = open('../input/model-sentiment-analysis/sent_analysis_model.pkl', 'rb')\n",
        "sent_analysis_model= pickle.load(pkl_file) \n",
        "pkl_file.close()\n",
        "\n",
        "vectdata=vectorizer.transform(data.cleaned_data)\n",
        "sent_analysis_pred=sent_analysis_model.predict(vectdata)\n",
        "data['sentiment']=sent_analysis_pred\n",
        "\"\"\""
      ],
      "execution_count": 0,
      "outputs": []
    }
  ]
}
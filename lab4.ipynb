{
  "nbformat": 4,
  "nbformat_minor": 0,
  "metadata": {
    "colab": {
      "name": "lab4.ipynb",
      "provenance": [],
      "collapsed_sections": []
    },
    "kernelspec": {
      "display_name": "Python 3",
      "language": "python",
      "name": "python3"
    },
    "language_info": {
      "codemirror_mode": {
        "name": "ipython",
        "version": 3
      },
      "file_extension": ".py",
      "mimetype": "text/x-python",
      "name": "python",
      "nbconvert_exporter": "python",
      "pygments_lexer": "ipython3",
      "version": "3.7.4"
    }
  },
  "cells": [
    {
      "cell_type": "markdown",
      "metadata": {
        "colab_type": "text",
        "id": "PZo2QBUPrSQU"
      },
      "source": [
        "# **Lab4**: Automatic Extractive Text Summarization\n",
        "\n",
        "\n",
        "This lab aims at discovering and recognizing the process of some\n",
        "Automatic Extractive Text Summarization algorithms using\n",
        "Python."
      ]
    },
    {
      "cell_type": "code",
      "metadata": {
        "id": "qtCbXJEuYlHP",
        "colab_type": "code",
        "colab": {
          "base_uri": "https://localhost:8080/",
          "height": 180
        },
        "outputId": "8f683337-8884-47fb-9225-218f7d757c96"
      },
      "source": [
        "import re\n",
        "import math\n",
        "import operator\n",
        "import nltk\n",
        "nltk.download('stopwords')\n",
        "nltk.download('punkt')\n",
        "from nltk.tokenize import sent_tokenize,word_tokenize\n",
        "nltk.download('averaged_perceptron_tagger')\n",
        "from nltk.corpus import stopwords\n",
        "Stopwords = set(stopwords.words('english'))\n",
        "from nltk.translate.bleu_score import sentence_bleu\n",
        "import math\n",
        "import operator\n",
        "import string\n",
        "import numpy as np\n",
        "nltk.download('stopwords')\n",
        "stopword_list = nltk.corpus.stopwords.words('english')"
      ],
      "execution_count": 12,
      "outputs": [
        {
          "output_type": "stream",
          "text": [
            "[nltk_data] Downloading package stopwords to /root/nltk_data...\n",
            "[nltk_data]   Package stopwords is already up-to-date!\n",
            "[nltk_data] Downloading package punkt to /root/nltk_data...\n",
            "[nltk_data]   Package punkt is already up-to-date!\n",
            "[nltk_data] Downloading package averaged_perceptron_tagger to\n",
            "[nltk_data]     /root/nltk_data...\n",
            "[nltk_data]   Package averaged_perceptron_tagger is already up-to-\n",
            "[nltk_data]       date!\n",
            "[nltk_data] Downloading package stopwords to /root/nltk_data...\n",
            "[nltk_data]   Package stopwords is already up-to-date!\n"
          ],
          "name": "stdout"
        }
      ]
    },
    {
      "cell_type": "code",
      "metadata": {
        "id": "hgOSdN-OYlHa",
        "colab_type": "code",
        "colab": {}
      },
      "source": [
        "DOCUMENT = \"\"\"Tunisia officially the Republic of Tunisia is a country in the\n",
        "Maghreb region of North Africa, covering 163,610 square kilometres (63,170 square\n",
        "miles). Its northernmost point, Cape Angela, is also the northernmost point on\n",
        "the African continent.\n",
        "Tunisia is bordered by Algeria to the west and southwest, Libya to the\n",
        "southeast, and the Mediterranean Sea to the north and east.\n",
        "Tunisia's population was 11.5 million in 2017.Tunisia's name is derived from its\n",
        "capital city, Tunis (Berber native name: Tunest), which is located on its\n",
        "northeast coast.\n",
        "Geographically, Tunisia contains the eastern end of the Atlas Mountains, and the\n",
        "northern reaches of the Sahara desert.\n",
        "Much of the rest of the country's land is fertile soil. Its 1,300 kilometres (810\n",
        "miles) of coastline include the African conjunction of\n",
        "the western and eastern parts of the Mediterranean Basin and, by means of the\n",
        "Sicilian Strait and Sardinian Channel, feature the African mainland's\n",
        "second and third nearest points to Europe after Gibraltar. \"\"\""
      ],
      "execution_count": 0,
      "outputs": []
    },
    {
      "cell_type": "markdown",
      "metadata": {
        "colab_type": "text",
        "id": "LyuLjXdtmlQ0"
      },
      "source": [
        "# Text Summarization using TFIDF"
      ]
    },
    {
      "cell_type": "code",
      "metadata": {
        "colab_type": "code",
        "id": "Lak24nWmkeS_",
        "outputId": "3385566e-8e5d-418f-b644-1e255c56b5f3",
        "colab": {
          "base_uri": "https://localhost:8080/",
          "height": 196
        }
      },
      "source": [
        "\n",
        "def remove_special_characters(text):\n",
        "  regex = r'[^a-zA-Z0-9\\s]'\n",
        "  text = re.sub(regex,'',text)\n",
        "  return text\n",
        "def freq(words):\n",
        "  words = [word.lower() for word in words]\n",
        "  dict_freq = {}\n",
        "  words_unique = []\n",
        "  for word in words:\n",
        "    if word not in words_unique:\n",
        "      words_unique.append(word)\n",
        "  for word in words_unique:\n",
        "    dict_freq[word] = words.count(word)\n",
        "  return dict_freq\n",
        "def pos_tagging(text):\n",
        "  pos_tag = nltk.pos_tag(text.split())\n",
        "  pos_tagged_noun_verb = []\n",
        "  for word,tag in pos_tag:\n",
        "    if tag == \"NN\" or tag == \"NNP\" or tag == \"NNS\" or tag == \"VB\" or tag == \"VBD\" or tag == \"VBG\" or tag == \"VBN\" or tag == \"VBP\" or tag == \"VBZ\":\n",
        "      pos_tagged_noun_verb.append(word)\n",
        "  return pos_tagged_noun_verb\n",
        "def tf_score(word,sentence):\n",
        "  word_frequency_in_sentence = 0\n",
        "  len_sentence = len(sentence)\n",
        "  for word_in_sentence in sentence.split():\n",
        "    if word == word_in_sentence:\n",
        "      word_frequency_in_sentence = word_frequency_in_sentence + 1\n",
        "  tf = word_frequency_in_sentence/ len_sentence\n",
        "  return tf\n",
        "def idf_score(no_of_sentences,word,sentences):\n",
        "  no_of_sentence_containing_word = 0\n",
        "  for sentence in sentences:\n",
        "    sentence = remove_special_characters(str(sentence))\n",
        "    sentence = re.sub(r'\\d+', '', sentence)\n",
        "    sentence = sentence.split()\n",
        "    sentence = [word for word in sentence if word.lower() not in Stopwords and len(word)>1]\n",
        "    sentence = [word.lower() for word in sentence]\n",
        "    if word in sentence:\n",
        "      no_of_sentence_containing_word = no_of_sentence_containing_word + 1\n",
        "  idf = math.log10(no_of_sentences/no_of_sentence_containing_word)\n",
        "  return idf\n",
        "def tf_idf_score(tf,idf):\n",
        "  return tf*idf\n",
        "def word_tfidf(dict_freq,word,sentences,sentence):\n",
        "  tf = tf_score(word,sentence)\n",
        "  idf = idf_score(len(sentences),word,sentences)\n",
        "  tf_idf = tf_idf_score(tf,idf)\n",
        "  return tf_idf\n",
        "def sentence_importance(sentence,dict_freq,sentences):\n",
        "  sentence_score = 0\n",
        "  sentence = remove_special_characters(str(sentence))\n",
        "  pos_tagged_sentence = []\n",
        "  pos_tagged_sentence = pos_tagging(sentence)\n",
        "  for word in pos_tagged_sentence:\n",
        "    if word.lower() not in Stopwords and word not in Stopwords and len(word)>1:\n",
        "      word = word.lower()\n",
        "      sentence_score = sentence_score + word_tfidf(dict_freq,word,sentences,sentence)\n",
        "  return sentence_score\n",
        "text = DOCUMENT\n",
        "tokenized_sentence = sent_tokenize(text)\n",
        "text = remove_special_characters(str(text))\n",
        "tokenized_words_with_stopwords = word_tokenize(text)\n",
        "tokenized_words = [word for word in tokenized_words_with_stopwords if word not in\n",
        "Stopwords]\n",
        "tokenized_words = [word for word in tokenized_words if len(word) > 1]\n",
        "tokenized_words = [word.lower() for word in tokenized_words]\n",
        "word_freq = freq(tokenized_words)\n",
        "no_of_sentences = 3\n",
        "print(\"Number of sentences :\",no_of_sentences)\n",
        "c = 1\n",
        "sentence_with_importance = {}\n",
        "for sent in tokenized_sentence:\n",
        "  sentenceimp = sentence_importance(sent,word_freq,tokenized_sentence)\n",
        "  sentence_with_importance[c] = sentenceimp\n",
        "  c = c+1\n",
        "sentence_with_importance = sorted(sentence_with_importance.items(),\n",
        "key=operator.itemgetter(1),reverse=True)\n",
        "cnt = 0\n",
        "summary = []\n",
        "sentence_no = []\n",
        "for word_prob in sentence_with_importance:\n",
        "  if cnt < no_of_sentences:\n",
        "    sentence_no.append(word_prob[0])\n",
        "    cnt = cnt+1\n",
        "  else:\n",
        "    break\n",
        "sentence_no.sort()\n",
        "cnt = 0\n",
        "for sentence in tokenized_sentence:\n",
        "  if cnt in sentence_no:\n",
        "    summary.append(sentence)\n",
        "  cnt = cnt+1\n",
        "summary = \" \".join(summary)\n",
        "print(\"\\n************** Summary: *****************\\n\")\n",
        "print(summary)"
      ],
      "execution_count": 6,
      "outputs": [
        {
          "output_type": "stream",
          "text": [
            "Number of sentences : 3\n",
            "\n",
            "************** Summary: *****************\n",
            "\n",
            "Tunisia is bordered by Algeria to the west and southwest, Libya to the\n",
            "southeast, and the Mediterranean Sea to the north and east. Geographically, Tunisia contains the eastern end of the Atlas Mountains, and the\n",
            "northern reaches of the Sahara desert. Its 1,300 kilometres (810\n",
            "miles) of coastline include the African conjunction of\n",
            "the western and eastern parts of the Mediterranean Basin and, by means of the\n",
            "Sicilian Strait and Sardinian Channel, feature the African mainland's\n",
            "second and third nearest points to Europe after Gibraltar.\n"
          ],
          "name": "stdout"
        }
      ]
    },
    {
      "cell_type": "code",
      "metadata": {
        "id": "Oq2qPfJtZgfh",
        "colab_type": "code",
        "colab": {
          "base_uri": "https://localhost:8080/",
          "height": 98
        },
        "outputId": "bacd45e9-d119-4d08-b757-5e3e7eab6ec7"
      },
      "source": [
        "reference = DOCUMENT\n",
        "candidate = summary\n",
        "score = sentence_bleu(reference, candidate)\n",
        "print(score)"
      ],
      "execution_count": 8,
      "outputs": [
        {
          "output_type": "stream",
          "text": [
            "0.5317059802521721\n"
          ],
          "name": "stdout"
        },
        {
          "output_type": "stream",
          "text": [
            "/usr/local/lib/python3.6/dist-packages/nltk/translate/bleu_score.py:490: UserWarning: \n",
            "Corpus/Sentence contains 0 counts of 2-gram overlaps.\n",
            "BLEU scores might be undesirable; use SmoothingFunction().\n",
            "  warnings.warn(_msg)\n"
          ],
          "name": "stderr"
        }
      ]
    },
    {
      "cell_type": "markdown",
      "metadata": {
        "colab_type": "text",
        "id": "zA7_azUOmrXA"
      },
      "source": [
        "# Text Summarization using TextRank Algorithm"
      ]
    },
    {
      "cell_type": "code",
      "metadata": {
        "colab_type": "code",
        "id": "o4DuxPMVl8o7",
        "outputId": "ccc95df6-1853-447b-9f62-660cb32c9eb4",
        "colab": {
          "base_uri": "https://localhost:8080/",
          "height": 622
        }
      },
      "source": [
        "\n",
        "# normalize the document\n",
        "def parse_document(document):\n",
        "  document = document.strip()\n",
        "  sentences = nltk.sent_tokenize(document)\n",
        "  sentences = [sentence.strip() for sentence in sentences]\n",
        "  return sentences\n",
        "def tokenize_text(text):\n",
        "  tokens = nltk.word_tokenize(text)\n",
        "  tokens = [token.strip() for token in tokens]\n",
        "  return tokens\n",
        "def remove_special_characters(text):\n",
        "  tokens = tokenize_text(text)\n",
        "  pattern = re.compile('[{}]'.format(re.escape(string.punctuation)))\n",
        "  filtered_tokens = filter(None, [pattern.sub('', token) for token in tokens])\n",
        "  filtered_text = ' '.join(filtered_tokens)\n",
        "  return filtered_text\n",
        "def remove_stopwords(text):\n",
        "  tokens = tokenize_text(text)\n",
        "  filtered_tokens = [token for token in tokens if token not in\n",
        "  stopword_list]\n",
        "  filtered_text = ' '.join(filtered_tokens)\n",
        "  return filtered_text\n",
        "def normalize_corpus(corpus, tokenize=False):\n",
        "  normalized_corpus = []\n",
        "  for text in corpus:\n",
        "    text = remove_special_characters(text)\n",
        "    text = remove_stopwords(text)\n",
        "    normalized_corpus.append(text)\n",
        "    if tokenize:\n",
        "      text = tokenize_text(text)\n",
        "      normalized_corpus.append(text)\n",
        "  return normalized_corpus\n",
        "\n",
        "sentences = parse_document(DOCUMENT)\n",
        "norm_sentences = normalize_corpus(sentences,tokenize=False)\n",
        "print (\"Total Sentences:\", len(norm_sentences))\n",
        "# define number of sentences in final summary\n",
        "num_sentences = 3\n",
        "from sklearn.feature_extraction.text import CountVectorizer, TfidfVectorizer\n",
        "def build_feature_matrix(documents, feature_type='frequency'):\n",
        "  feature_type = feature_type.lower().strip()\n",
        "  if feature_type == 'frequency':\n",
        "    vectorizer = CountVectorizer()\n",
        "  elif feature_type == 'tfidf':\n",
        "    vectorizer = TfidfVectorizer()\n",
        "  else:\n",
        "    raise Exception(\"Wrong feature type entered. Possible values: 'frequency', 'tfidf'\")\n",
        "  feature_matrix = vectorizer.fit_transform(documents).astype(float)\n",
        "  return vectorizer, feature_matrix\n",
        "# construct weighted document term matrix\n",
        "vec, dt_matrix = build_feature_matrix(norm_sentences,\n",
        "feature_type='tfidf')\n",
        "# construct the document similarity matrix\n",
        "similarity_matrix = (dt_matrix * dt_matrix.T)\n",
        "# view the document similarity matrix\n",
        "print (np.round(similarity_matrix.todense(), 2))\n",
        "from networkx import *\n",
        "# build the similarity graph\n",
        "similarity_graph = networkx.from_scipy_sparse_matrix(similarity_matrix)\n",
        "# view the similarity graph\n",
        "networkx.draw_networkx(similarity_graph)\n",
        "# compute pagerank scores for all the sentences\n",
        "scores = networkx.pagerank(similarity_graph)\n",
        "# rank sentences based on their scores\n",
        "ranked_sentences = sorted(((score, index) for index, score in scores.items()),reverse=True)\n",
        "# view the ranked sentences\n",
        "ranked_sentences\n",
        "# get the top sentence indices for our summary\n",
        "top_sentence_indices = [ranked_sentences[index][1] for index in range(num_sentences)]\n",
        "top_sentence_indices.sort()\n",
        "# view the top sentence indices\n",
        "print (top_sentence_indices)\n",
        "# construct the document summary\n",
        "for index in top_sentence_indices:\n",
        "  print (sentences[index])\n",
        "def textrank_text_summarizer(documents, num_sentences=3,feature_type='frequency'):\n",
        "  text=''\n",
        "  vec, dt_matrix = build_feature_matrix(norm_sentences,\n",
        "  feature_type='tfidf')\n",
        "  similarity_matrix = (dt_matrix * dt_matrix.T)\n",
        "  similarity_graph = networkx.from_scipy_sparse_matrix(similarity_matrix)\n",
        "  scores = networkx.pagerank(similarity_graph)\n",
        "  ranked_sentences = sorted(((score, index) for index, score in scores.items()),reverse=True)\n",
        "  top_sentence_indices = [ranked_sentences[index][1] for index in range(num_sentences)]\n",
        "  top_sentence_indices.sort()\n",
        "  for index in top_sentence_indices:\n",
        "    #print (sentences[index])\n",
        "    text+=' '+sentences[index]\n",
        "    return text\n",
        "print(\"summary:\")\n",
        "summary=textrank_text_summarizer(norm_sentences, num_sentences=3, feature_type='tfidf')\n",
        "print(summary)"
      ],
      "execution_count": 26,
      "outputs": [
        {
          "output_type": "stream",
          "text": [
            "Total Sentences: 7\n",
            "[[1.   0.   0.11 0.04 0.06 0.07 0.07]\n",
            " [0.   1.   0.   0.   0.   0.   0.11]\n",
            " [0.11 0.   1.   0.03 0.04 0.   0.04]\n",
            " [0.04 0.   0.03 1.   0.03 0.   0.  ]\n",
            " [0.06 0.   0.04 0.03 1.   0.   0.04]\n",
            " [0.07 0.   0.   0.   0.   1.   0.  ]\n",
            " [0.07 0.11 0.04 0.   0.04 0.   1.  ]]\n",
            "[0, 2, 6]\n",
            "Tunisia officially the Republic of Tunisia is a country in the\n",
            "Maghreb region of North Africa, covering 163,610 square kilometres (63,170 square\n",
            "miles).\n",
            "Tunisia is bordered by Algeria to the west and southwest, Libya to the\n",
            "southeast, and the Mediterranean Sea to the north and east.\n",
            "Its 1,300 kilometres (810\n",
            "miles) of coastline include the African conjunction of\n",
            "the western and eastern parts of the Mediterranean Basin and, by means of the\n",
            "Sicilian Strait and Sardinian Channel, feature the African mainland's\n",
            "second and third nearest points to Europe after Gibraltar.\n",
            "summary:\n",
            " Tunisia officially the Republic of Tunisia is a country in the\n",
            "Maghreb region of North Africa, covering 163,610 square kilometres (63,170 square\n",
            "miles).\n"
          ],
          "name": "stdout"
        },
        {
          "output_type": "display_data",
          "data": {
            "image/png": "[encoded data removed]",
            "text/plain": [
              "<Figure size 432x288 with 1 Axes>"
            ]
          },
          "metadata": {
            "tags": []
          }
        }
      ]
    },
    {
      "cell_type": "code",
      "metadata": {
        "id": "6rFJ8m6WZ7dr",
        "colab_type": "code",
        "colab": {
          "base_uri": "https://localhost:8080/",
          "height": 98
        },
        "outputId": "7f2745f3-9941-4621-ef3c-727c45aed499"
      },
      "source": [
        "reference = DOCUMENT\n",
        "candidate = summary\n",
        "score = sentence_bleu(reference, candidate)\n",
        "print(score)"
      ],
      "execution_count": 27,
      "outputs": [
        {
          "output_type": "stream",
          "text": [
            "0.7012575875367208\n"
          ],
          "name": "stdout"
        },
        {
          "output_type": "stream",
          "text": [
            "/usr/local/lib/python3.6/dist-packages/nltk/translate/bleu_score.py:490: UserWarning: \n",
            "Corpus/Sentence contains 0 counts of 2-gram overlaps.\n",
            "BLEU scores might be undesirable; use SmoothingFunction().\n",
            "  warnings.warn(_msg)\n"
          ],
          "name": "stderr"
        }
      ]
    },
    {
      "cell_type": "markdown",
      "metadata": {
        "colab_type": "text",
        "id": "czebchD9pzgU"
      },
      "source": [
        "# Text Summarization using LSA (Latent Semantic Analysis) Algorithm"
      ]
    },
    {
      "cell_type": "code",
      "metadata": {
        "colab_type": "code",
        "id": "KPpqhVmIpyl9",
        "outputId": "116e8b98-97f6-4209-a1a8-adf944633010",
        "colab": {
          "base_uri": "https://localhost:8080/",
          "height": 391
        }
      },
      "source": [
        "\n",
        "# normalize the document\n",
        "def parse_document(document):\n",
        "  document = document.strip()\n",
        "  sentences = nltk.sent_tokenize(document)\n",
        "  sentences = [sentence.strip() for sentence in sentences]\n",
        "  return sentences\n",
        "def tokenize_text(text):\n",
        "  tokens = nltk.word_tokenize(text)\n",
        "  tokens = [token.strip() for token in tokens]\n",
        "  return tokens\n",
        "def remove_special_characters(text):\n",
        "  tokens = tokenize_text(text)\n",
        "  pattern = re.compile('[{}]'.format(re.escape(string.punctuation)))\n",
        "  filtered_tokens = filter(None, [pattern.sub('', token) for token in tokens])\n",
        "  filtered_text = ' '.join(filtered_tokens)\n",
        "  return filtered_text\n",
        "def remove_stopwords(text):\n",
        "  tokens = tokenize_text(text)\n",
        "  filtered_tokens = [token for token in tokens if token not in\n",
        "  stopword_list]\n",
        "  filtered_text = ' '.join(filtered_tokens)\n",
        "  return filtered_text\n",
        "def normalize_corpus(corpus, tokenize=False):\n",
        "  normalized_corpus = []\n",
        "  for text in corpus:\n",
        "    text = remove_special_characters(text)\n",
        "    text = remove_stopwords(text)\n",
        "    normalized_corpus.append(text)\n",
        "    if tokenize:\n",
        "      text = tokenize_text(text)\n",
        "      normalized_corpus.append(text)\n",
        "  return normalized_corpus\n",
        "\n",
        "sentences = parse_document(DOCUMENT)\n",
        "norm_sentences = normalize_corpus(sentences,tokenize=False)\n",
        "print (\"Total Sentences:\", len(norm_sentences))\n",
        "from sklearn.feature_extraction.text import CountVectorizer, TfidfVectorizer\n",
        "def build_feature_matrix(documents, feature_type='frequency'):\n",
        "  feature_type = feature_type.lower().strip()\n",
        "  if feature_type == 'frequency':\n",
        "    vectorizer = CountVectorizer()\n",
        "  elif feature_type == 'tfidf':\n",
        "    vectorizer = TfidfVectorizer()\n",
        "  else:\n",
        "    raise Exception(\"Wrong feature type entered. Possible values: 'frequency', 'tfidf'\")\n",
        "  feature_matrix = vectorizer.fit_transform(documents).astype(float)\n",
        "  return vectorizer, feature_matrix\n",
        "# set the number of sentences and topics for summarized document\n",
        "num_sentences = 3\n",
        "num_topics = 3\n",
        "# build document term matrix based on bag of words features\n",
        "vec, dt_matrix = build_feature_matrix(sentences,\n",
        "feature_type='frequency')\n",
        "# convert to term document matrix\n",
        "td_matrix = dt_matrix.transpose()\n",
        "td_matrix = td_matrix.multiply(td_matrix > 0)\n",
        "from scipy.sparse.linalg import svds\n",
        "def low_rank_svd(matrix, singular_count=2):\n",
        "  u, s, vt = svds(matrix, k=singular_count)\n",
        "  return u, s, vt\n",
        "# get low rank SVD components\n",
        "u, s, vt = low_rank_svd(td_matrix, singular_count=num_topics)\n",
        "# remove singular values below threshold\n",
        "sv_threshold = 0.5\n",
        "min_sigma_value = max(s) * sv_threshold\n",
        "s[s < min_sigma_value] = 0\n",
        "# compute salience scores for all sentences in document\n",
        "salience_scores = np.sqrt(np.dot(np.square(s), np.square(vt)))\n",
        "# print salience score for each sentence\n",
        "print (np.round(salience_scores, 2))\n",
        "# rank sentences based on their salience scores\n",
        "top_sentence_indices = salience_scores.argsort()[-num_sentences:][::-1]\n",
        "top_sentence_indices.sort()\n",
        "# view top sentence index positions\n",
        "print (top_sentence_indices)\n",
        "# get document summary by combining above sentences\n",
        "for index in top_sentence_indices:\n",
        "  print (sentences[index])\n",
        "def lsa_text_summarizer(documents, num_sentences=2,num_topics=2, feature_type='frequency',sv_threshold=0.5):\n",
        "  text=''\n",
        "  vec, dt_matrix = build_feature_matrix(documents,\n",
        "  feature_type=feature_type)\n",
        "  td_matrix = dt_matrix.transpose()\n",
        "  td_matrix = td_matrix.multiply(td_matrix > 0)\n",
        "  u, s, vt = low_rank_svd(td_matrix, singular_count=num_topics)\n",
        "  min_sigma_value = max(s) * sv_threshold\n",
        "  s[s < min_sigma_value] = 0\n",
        "  salience_scores = np.sqrt(np.dot(np.square(s), np.square(vt)))\n",
        "  top_sentence_indices = salience_scores.argsort()[-num_sentences:][::-1]\n",
        "  top_sentence_indices.sort()\n",
        "  for index in top_sentence_indices:\n",
        "    #print (sentences[index])\n",
        "    text+=' '+sentences[index]\n",
        "  return text\n",
        "print(\"summary:\")\n",
        "# LSA document summarization\n",
        "summary=lsa_text_summarizer(norm_sentences, num_sentences=3,num_topics=5, feature_type='frequency',sv_threshold=0.5)\n",
        "print(summary)"
      ],
      "execution_count": 28,
      "outputs": [
        {
          "output_type": "stream",
          "text": [
            "Total Sentences: 7\n",
            "[3.84 2.14 5.16 5.39 4.37 2.39 9.03]\n",
            "[2 3 6]\n",
            "Tunisia is bordered by Algeria to the west and southwest, Libya to the\n",
            "southeast, and the Mediterranean Sea to the north and east.\n",
            "Tunisia's population was 11.5 million in 2017.Tunisia's name is derived from its\n",
            "capital city, Tunis (Berber native name: Tunest), which is located on its\n",
            "northeast coast.\n",
            "Its 1,300 kilometres (810\n",
            "miles) of coastline include the African conjunction of\n",
            "the western and eastern parts of the Mediterranean Basin and, by means of the\n",
            "Sicilian Strait and Sardinian Channel, feature the African mainland's\n",
            "second and third nearest points to Europe after Gibraltar.\n",
            "summary:\n",
            " Tunisia officially the Republic of Tunisia is a country in the\n",
            "Maghreb region of North Africa, covering 163,610 square kilometres (63,170 square\n",
            "miles). Tunisia's population was 11.5 million in 2017.Tunisia's name is derived from its\n",
            "capital city, Tunis (Berber native name: Tunest), which is located on its\n",
            "northeast coast. Its 1,300 kilometres (810\n",
            "miles) of coastline include the African conjunction of\n",
            "the western and eastern parts of the Mediterranean Basin and, by means of the\n",
            "Sicilian Strait and Sardinian Channel, feature the African mainland's\n",
            "second and third nearest points to Europe after Gibraltar.\n"
          ],
          "name": "stdout"
        }
      ]
    },
    {
      "cell_type": "code",
      "metadata": {
        "id": "ruKvipeDZ9aI",
        "colab_type": "code",
        "colab": {
          "base_uri": "https://localhost:8080/",
          "height": 98
        },
        "outputId": "809c06f2-8fe6-420a-f638-4e974eea03d9"
      },
      "source": [
        "reference = DOCUMENT\n",
        "candidate = summary\n",
        "score = sentence_bleu(reference, candidate)\n",
        "print(score)"
      ],
      "execution_count": 29,
      "outputs": [
        {
          "output_type": "stream",
          "text": [
            "0.5370657106260021\n"
          ],
          "name": "stdout"
        },
        {
          "output_type": "stream",
          "text": [
            "/usr/local/lib/python3.6/dist-packages/nltk/translate/bleu_score.py:490: UserWarning: \n",
            "Corpus/Sentence contains 0 counts of 2-gram overlaps.\n",
            "BLEU scores might be undesirable; use SmoothingFunction().\n",
            "  warnings.warn(_msg)\n"
          ],
          "name": "stderr"
        }
      ]
    }
  ]
}